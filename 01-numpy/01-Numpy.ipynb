{
 "cells": [
  {
   "cell_type": "markdown",
   "metadata": {
    "deletable": true,
    "editable": true
   },
   "source": [
    "# Numpy Qucik Intro"
   ]
  },
  {
   "cell_type": "code",
   "execution_count": null,
   "metadata": {
    "deletable": true,
    "editable": true,
    "tags": []
   },
   "outputs": [],
   "source": [
    "# The very first move\n",
    "import numpy as np"
   ]
  },
  {
   "cell_type": "markdown",
   "metadata": {
    "deletable": true,
    "editable": true
   },
   "source": [
    "### Construct an ndarray\n",
    "n-dimensional array"
   ]
  },
  {
   "cell_type": "code",
   "execution_count": null,
   "metadata": {},
   "outputs": [],
   "source": [
    "[1, \"a\", 1., [1,2], (1,2), {'a':3}]"
   ]
  },
  {
   "cell_type": "code",
   "execution_count": null,
   "metadata": {
    "collapsed": false,
    "deletable": true,
    "editable": true,
    "jupyter": {
     "outputs_hidden": false
    }
   },
   "outputs": [],
   "source": [
    "y = np.array([[1.,2,3], [4,5,6], [7,8, 9.3]])\n",
    "y"
   ]
  },
  {
   "cell_type": "code",
   "execution_count": null,
   "metadata": {},
   "outputs": [],
   "source": [
    "np.array([b'a', b'b', b'cuuuuuuuuiiiiiiiiiiiiiiiiiiii'])"
   ]
  },
  {
   "cell_type": "markdown",
   "metadata": {
    "deletable": true,
    "editable": true
   },
   "source": [
    "The first thing to look at ndarray:  shape , dtype"
   ]
  },
  {
   "cell_type": "markdown",
   "metadata": {},
   "source": [
    "# always check dtype and shape of an array"
   ]
  },
  {
   "cell_type": "code",
   "execution_count": null,
   "metadata": {
    "collapsed": false,
    "deletable": true,
    "editable": true,
    "jupyter": {
     "outputs_hidden": false
    }
   },
   "outputs": [],
   "source": [
    "y.shape[0] * y.shape[1] * 8"
   ]
  },
  {
   "cell_type": "code",
   "execution_count": null,
   "metadata": {},
   "outputs": [],
   "source": [
    "y"
   ]
  },
  {
   "cell_type": "code",
   "execution_count": null,
   "metadata": {},
   "outputs": [],
   "source": [
    "z = np.array([y, 2*y, 3*y, 4*y, 5*y, 6*y])\n",
    "z.shape"
   ]
  },
  {
   "cell_type": "code",
   "execution_count": null,
   "metadata": {},
   "outputs": [],
   "source": [
    "z"
   ]
  },
  {
   "cell_type": "code",
   "execution_count": null,
   "metadata": {},
   "outputs": [],
   "source": [
    "z.shape"
   ]
  },
  {
   "cell_type": "code",
   "execution_count": null,
   "metadata": {},
   "outputs": [],
   "source": [
    "#w = np.array([[2,3], [4,5,6]])\n",
    "#w.dtype"
   ]
  },
  {
   "cell_type": "code",
   "execution_count": null,
   "metadata": {},
   "outputs": [],
   "source": [
    "x = np.array([1,2,3])\n",
    "x[0]= 5555555.\n",
    "x"
   ]
  },
  {
   "cell_type": "code",
   "execution_count": null,
   "metadata": {
    "collapsed": false,
    "deletable": true,
    "editable": true,
    "jupyter": {
     "outputs_hidden": false
    }
   },
   "outputs": [],
   "source": [
    "x.shape, x.dtype"
   ]
  },
  {
   "cell_type": "code",
   "execution_count": null,
   "metadata": {
    "collapsed": false,
    "deletable": true,
    "editable": true,
    "jupyter": {
     "outputs_hidden": false
    }
   },
   "outputs": [],
   "source": [
    "y.shape, y.dtype"
   ]
  },
  {
   "cell_type": "markdown",
   "metadata": {
    "deletable": true,
    "editable": true
   },
   "source": [
    "  "
   ]
  },
  {
   "cell_type": "code",
   "execution_count": null,
   "metadata": {},
   "outputs": [],
   "source": [
    "x = np.array([10,2,3,4])"
   ]
  },
  {
   "cell_type": "code",
   "execution_count": null,
   "metadata": {
    "collapsed": false,
    "deletable": true,
    "editable": true,
    "jupyter": {
     "outputs_hidden": false
    }
   },
   "outputs": [],
   "source": [
    "# import matplotlib\n",
    "%matplotlib inline\n",
    "import matplotlib.pyplot as plt\n",
    "# plot the graph\n",
    "#x[0]=3\n",
    "plt.plot(x, 'o')"
   ]
  },
  {
   "cell_type": "code",
   "execution_count": null,
   "metadata": {},
   "outputs": [],
   "source": [
    "y"
   ]
  },
  {
   "cell_type": "code",
   "execution_count": null,
   "metadata": {},
   "outputs": [],
   "source": [
    "# using rich module to pretty print the array\n",
    "from rich import print\n",
    "print(y)"
   ]
  },
  {
   "cell_type": "code",
   "execution_count": null,
   "metadata": {},
   "outputs": [],
   "source": [
    "print({\n",
    "    \"a\": 3,\n",
    "    \"b\": [1,2,3]\n",
    "})"
   ]
  },
  {
   "cell_type": "markdown",
   "metadata": {
    "deletable": true,
    "editable": true
   },
   "source": [
    "### There are many ways to build an array"
   ]
  },
  {
   "cell_type": "code",
   "execution_count": null,
   "metadata": {
    "collapsed": false,
    "deletable": true,
    "editable": true,
    "jupyter": {
     "outputs_hidden": false
    }
   },
   "outputs": [],
   "source": [
    "print(2*np.ones_like(y))"
   ]
  },
  {
   "cell_type": "code",
   "execution_count": null,
   "metadata": {},
   "outputs": [],
   "source": [
    "print(np.ones((10, 10, 10)))"
   ]
  },
  {
   "cell_type": "code",
   "execution_count": null,
   "metadata": {
    "collapsed": false,
    "deletable": true,
    "editable": true,
    "jupyter": {
     "outputs_hidden": false
    }
   },
   "outputs": [],
   "source": [
    "print(3.14*np.ones((10,10)))"
   ]
  },
  {
   "cell_type": "code",
   "execution_count": null,
   "metadata": {},
   "outputs": [],
   "source": [
    "print(np.full((3,3), 3.14))"
   ]
  },
  {
   "cell_type": "code",
   "execution_count": null,
   "metadata": {},
   "outputs": [],
   "source": [
    "I = np.eye(10)\n",
    "print(I)"
   ]
  },
  {
   "cell_type": "code",
   "execution_count": null,
   "metadata": {},
   "outputs": [],
   "source": [
    "print(np.diag([1,2,3,5,5,5]))"
   ]
  },
  {
   "cell_type": "code",
   "execution_count": null,
   "metadata": {},
   "outputs": [],
   "source": [
    "0.1 + 0.2"
   ]
  },
  {
   "cell_type": "code",
   "execution_count": null,
   "metadata": {
    "collapsed": false,
    "deletable": true,
    "editable": true,
    "jupyter": {
     "outputs_hidden": false
    }
   },
   "outputs": [],
   "source": [
    "# there are also many utility to construct arrays people use\n",
    "# a 'range' array\n",
    "x = np.arange(0, 1, 0.1)\n",
    "print(x)\n",
    "x = np.linspace(0, 1, 100)\n",
    "print(x)\n",
    "# random array\n",
    "y = np.random.uniform(-1,1, size=100)\n",
    "plt.plot( y, 'x')"
   ]
  },
  {
   "cell_type": "code",
   "execution_count": null,
   "metadata": {},
   "outputs": [],
   "source": [
    "y.dtype"
   ]
  },
  {
   "cell_type": "markdown",
   "metadata": {},
   "source": [
    "Arrays are data stored in a computer. When you see a bunch of data stored in a computer, you can check\n",
    "\n",
    "* What information does the data contain?\n",
    "* What are the restrictions on this data or object?\n",
    "* What do these restrictions mean? benefit?\n",
    "* How can it be used (operation)?\n",
    "* Have you encountered anything similar before?\n",
    "* What can it be applied to?\n"
   ]
  },
  {
   "cell_type": "markdown",
   "metadata": {
    "deletable": true,
    "editable": true
   },
   "source": [
    "The most common and basic operations on arrays are  **elementwise operation**\n",
    "\n",
    "see also `np.vectorize` and ufunc"
   ]
  },
  {
   "cell_type": "code",
   "execution_count": null,
   "metadata": {},
   "outputs": [],
   "source": [
    "# for example, the following addition applied to each element of the array\n",
    "np.array([1,2,3,4]) * 4"
   ]
  },
  {
   "cell_type": "code",
   "execution_count": null,
   "metadata": {},
   "outputs": [],
   "source": [
    "from math import sin\n",
    "from math import pi  as π\n",
    "sin(π/4) - 1/2**0.5"
   ]
  },
  {
   "cell_type": "code",
   "execution_count": null,
   "metadata": {},
   "outputs": [],
   "source": [
    "# There might be many interpolation or generalization of sine function on an array input\n",
    "# but the most simple one is just the elementwise one\n",
    "x = np.linspace(0, np.pi/2, 91)\n",
    "print(np.sin(x))"
   ]
  },
  {
   "cell_type": "code",
   "execution_count": null,
   "metadata": {
    "collapsed": false,
    "deletable": true,
    "editable": true,
    "jupyter": {
     "outputs_hidden": false
    }
   },
   "outputs": [],
   "source": [
    "x = np.linspace(0, 2* np.pi, 1001)\n",
    "plt.plot(x, np.sin(x))"
   ]
  },
  {
   "cell_type": "markdown",
   "metadata": {
    "deletable": true,
    "editable": true
   },
   "source": [
    "## Q0:\n",
    "plot the graph $y=x^2+1$ or other functions\n",
    "\n",
    "type the following command in notebook \n",
    "```python\n",
    "plt.plot?\n",
    "```\n",
    "and see what you can do with `plot` function"
   ]
  },
  {
   "cell_type": "code",
   "execution_count": null,
   "metadata": {},
   "outputs": [],
   "source": [
    "x=np.linspace(-3,3, 100)\n",
    "y = x**2 + 1\n",
    "plt.plot(x, y)\n",
    "x=np.linspace(-3,3, 7)\n",
    "y = x**2 + 1\n",
    "plt.plot(x, y, 'x')\n",
    "plt.plot(x, 5*np.ones_like(x))\n",
    "plt.plot(x, np.ones_like(x), 'g')"
   ]
  },
  {
   "cell_type": "code",
   "execution_count": null,
   "metadata": {},
   "outputs": [],
   "source": [
    "y"
   ]
  },
  {
   "cell_type": "markdown",
   "metadata": {},
   "source": [
    " you can use `%load` to load the sample solution when you are done"
   ]
  },
  {
   "cell_type": "code",
   "execution_count": null,
   "metadata": {
    "collapsed": false,
    "deletable": true,
    "editable": true,
    "jupyter": {
     "outputs_hidden": false
    }
   },
   "outputs": [],
   "source": [
    "# %load q0.py\n",
    "x = np.linspace(-1, 1, 10001)\n",
    "plt.plot(x, x**2+1 ) #, \"g^\", x, x**3, 'ro', x, x**2+1, 'b');"
   ]
  },
  {
   "cell_type": "markdown",
   "metadata": {
    "deletable": true,
    "editable": true
   },
   "source": [
    "## Q1:\n",
    "Images are also data. The content of the image can be represented by an array.\n",
    "use the following code to load an image and transform it into an ndarray\n",
    "```python\n",
    "from PIL import Image\n",
    "# read PIL Image (the following line opens a cc0 image, originally from openclipart)\n",
    "img = Image.open('img/Green-Rolling-Hills-Landscape-800px.png')\n",
    "# convert the image content into ndarray\n",
    "img_array = np.array(img)\n",
    "# convert ndarray back to PIL Image\n",
    "Image.fromarray(img_array)\n",
    "```\n",
    "check the content of the image. What is the dtype and shape of the array that represents the content of the image?"
   ]
  },
  {
   "cell_type": "code",
   "execution_count": null,
   "metadata": {
    "collapsed": false,
    "deletable": true,
    "editable": true,
    "jupyter": {
     "outputs_hidden": false
    }
   },
   "outputs": [],
   "source": [
    "# %load q1.py\n",
    "from PIL import Image\n",
    "img = Image.open('img/Green-Rolling-Hills-Landscape-800px.png')\n",
    "img_array = np.array(img)\n",
    "print(\"img_array.shape={}\".format(img_array.shape))\n",
    "print(\"img_array.dtype={}\".format(img_array.dtype))\n",
    "Image.fromarray(img_array)"
   ]
  },
  {
   "cell_type": "markdown",
   "metadata": {},
   "source": [
    "As we know how the image content can be represented by an ndarray, we can do it backwards, that is, we can convert an ndarray to an image and then visualize it."
   ]
  },
  {
   "cell_type": "code",
   "execution_count": null,
   "metadata": {},
   "outputs": [],
   "source": [
    "x = np.array([[[255, 0, 0], [127,127,127]], [[0, 255, 0], [0,0,255]]], np.uint8)"
   ]
  },
  {
   "cell_type": "code",
   "execution_count": null,
   "metadata": {},
   "outputs": [],
   "source": [
    "x.shape"
   ]
  },
  {
   "cell_type": "code",
   "execution_count": null,
   "metadata": {},
   "outputs": [],
   "source": [
    "Image.fromarray(x).resize((200,200), Image.NEAREST)"
   ]
  },
  {
   "cell_type": "markdown",
   "metadata": {},
   "source": [
    "Let us draw some thing more complicated"
   ]
  },
  {
   "cell_type": "code",
   "execution_count": null,
   "metadata": {},
   "outputs": [],
   "source": [
    "x = np.array([5,6,7,8])\n",
    "x[1:3]=4\n",
    "x"
   ]
  },
  {
   "cell_type": "code",
   "execution_count": null,
   "metadata": {},
   "outputs": [],
   "source": [
    "x = list(range(100))\n",
    "x[10:30:3]"
   ]
  },
  {
   "cell_type": "code",
   "execution_count": null,
   "metadata": {
    "scrolled": true
   },
   "outputs": [],
   "source": [
    "x = np.full((150,150), 0, dtype=np.uint8)\n",
    "x[::5] = 255\n",
    "x[:, ::5] = 255\n",
    "Image.fromarray(x)"
   ]
  },
  {
   "cell_type": "code",
   "execution_count": null,
   "metadata": {},
   "outputs": [],
   "source": [
    "x = np.full((500,500), 0, dtype=np.uint8)\n",
    "for i in range(500):\n",
    "    for j in range(500):\n",
    "        if (200-j)**2+(200-i)**2 < 50**2:\n",
    "            x[i, j] = 255\n",
    "for i in range(500):\n",
    "    for j in range(500):\n",
    "        if (300-j)**2+(200-i)**2 < 20**2:\n",
    "            x[i, j] = 255\n",
    "Image.fromarray(x)"
   ]
  },
  {
   "cell_type": "code",
   "execution_count": null,
   "metadata": {},
   "outputs": [],
   "source": [
    "a = 127*np.ones((6000,6000), dtype=np.uint8)\n",
    "y, x = np.indices(a.shape[:2])\n",
    "a[(3000-x)**2+(3000-y)**2 < 3000**2]=255\n",
    "Image.fromarray(a)"
   ]
  },
  {
   "cell_type": "code",
   "execution_count": null,
   "metadata": {},
   "outputs": [],
   "source": [
    "x = 127*np.ones((5000,5000), dtype=np.uint8)\n",
    "for i in range(5000):\n",
    "    for j in range(5000):\n",
    "        x[i, j] = 255*( 1-(abs(2500-j)**2+abs(2500-i)**2)/(2*2500**2))\n",
    "Image.fromarray(x)"
   ]
  },
  {
   "cell_type": "code",
   "execution_count": null,
   "metadata": {},
   "outputs": [],
   "source": [
    "a = 127*np.ones((5000,5000), dtype=np.uint8)\n",
    "y, x = np.indices(a.shape[:2])\n",
    "b = np.uint8(255*(1-((2500-x)**2+(2500-y)**2)/(2*2500**2)))\n",
    "Image.fromarray(b)"
   ]
  },
  {
   "cell_type": "markdown",
   "metadata": {
    "deletable": true,
    "editable": true
   },
   "source": [
    "### Indexing\n",
    "an array can be indexed like a list"
   ]
  },
  {
   "cell_type": "code",
   "execution_count": null,
   "metadata": {
    "collapsed": false,
    "deletable": true,
    "editable": true,
    "jupyter": {
     "outputs_hidden": false
    }
   },
   "outputs": [],
   "source": [
    "a = np.arange(30)\n",
    "a"
   ]
  },
  {
   "cell_type": "code",
   "execution_count": null,
   "metadata": {
    "collapsed": false,
    "deletable": true,
    "editable": true,
    "jupyter": {
     "outputs_hidden": false
    }
   },
   "outputs": [],
   "source": [
    "a[5]"
   ]
  },
  {
   "cell_type": "code",
   "execution_count": null,
   "metadata": {
    "collapsed": false,
    "deletable": true,
    "editable": true,
    "jupyter": {
     "outputs_hidden": false
    }
   },
   "outputs": [],
   "source": [
    "a[3:7]"
   ]
  },
  {
   "cell_type": "code",
   "execution_count": null,
   "metadata": {
    "collapsed": false,
    "deletable": true,
    "editable": true,
    "jupyter": {
     "outputs_hidden": false
    }
   },
   "outputs": [],
   "source": [
    "# list odd terms\n",
    "a[1::2]"
   ]
  },
  {
   "cell_type": "code",
   "execution_count": null,
   "metadata": {
    "collapsed": false,
    "deletable": true,
    "editable": true,
    "jupyter": {
     "outputs_hidden": false
    }
   },
   "outputs": [],
   "source": [
    "# can used assign values\n",
    "a[1::2]  = -1\n",
    "a"
   ]
  },
  {
   "cell_type": "code",
   "execution_count": null,
   "metadata": {
    "collapsed": false,
    "deletable": true,
    "editable": true,
    "jupyter": {
     "outputs_hidden": false
    }
   },
   "outputs": [],
   "source": [
    "# or\n",
    "a[1::2] = -a[::2]-1\n",
    "a"
   ]
  },
  {
   "cell_type": "markdown",
   "metadata": {
    "deletable": true,
    "editable": true
   },
   "source": [
    "## Q2\n",
    "given\n",
    "```python\n",
    "x = np.arange(30)\n",
    "a = np.arange(30)\n",
    "a[1::2] = -a[1::2]\n",
    "```\n",
    "plot the floowing graph\n",
    "\n",
    "![](sample.png)"
   ]
  },
  {
   "cell_type": "code",
   "execution_count": null,
   "metadata": {
    "collapsed": false,
    "deletable": true,
    "editable": true,
    "jupyter": {
     "outputs_hidden": false
    }
   },
   "outputs": [],
   "source": [
    "# %load q2.py\n"
   ]
  },
  {
   "cell_type": "markdown",
   "metadata": {
    "deletable": true,
    "editable": true
   },
   "source": [
    "### there are more way to index an ndarray"
   ]
  },
  {
   "cell_type": "code",
   "execution_count": null,
   "metadata": {
    "collapsed": false,
    "deletable": true,
    "editable": true,
    "jupyter": {
     "outputs_hidden": false
    }
   },
   "outputs": [],
   "source": [
    "b = np.array([[1,2,3], [4,5,6], [7,8,9]])\n",
    "b"
   ]
  },
  {
   "cell_type": "code",
   "execution_count": null,
   "metadata": {
    "collapsed": false,
    "deletable": true,
    "editable": true,
    "jupyter": {
     "outputs_hidden": false
    }
   },
   "outputs": [],
   "source": [
    "b[1][2]"
   ]
  },
  {
   "cell_type": "code",
   "execution_count": null,
   "metadata": {
    "collapsed": false,
    "deletable": true,
    "editable": true,
    "jupyter": {
     "outputs_hidden": false
    }
   },
   "outputs": [],
   "source": [
    "b[1,2]"
   ]
  },
  {
   "cell_type": "code",
   "execution_count": null,
   "metadata": {
    "collapsed": false,
    "deletable": true,
    "editable": true,
    "jupyter": {
     "outputs_hidden": false
    }
   },
   "outputs": [],
   "source": [
    "b[1]"
   ]
  },
  {
   "cell_type": "markdown",
   "metadata": {
    "deletable": true,
    "editable": true
   },
   "source": [
    "## Q3\n",
    "Notebook is a great tool for interactive experimenting.\n",
    "\n",
    "Sometimes, the best way to learn is to try it. \n",
    "\n",
    "You may see a pattern of how numpy indexing works, does the following syntax and see whether it works. \n",
    "```python\n",
    "b = np.random.randint(0,99, size=(10,10))\n",
    "b[::2, 2]\n",
    "```"
   ]
  },
  {
   "cell_type": "markdown",
   "metadata": {
    "deletable": true,
    "editable": true
   },
   "source": [
    "### Fancy indexing"
   ]
  },
  {
   "cell_type": "code",
   "execution_count": null,
   "metadata": {
    "collapsed": false,
    "deletable": true,
    "editable": true,
    "jupyter": {
     "outputs_hidden": false
    }
   },
   "outputs": [],
   "source": [
    "b = np.random.randint(0,99, size=(5,10))\n",
    "b"
   ]
  },
  {
   "cell_type": "markdown",
   "metadata": {},
   "source": [
    "Think about what is going on (what is numpy _thinking_? try to figure out the logic behind it)"
   ]
  },
  {
   "cell_type": "code",
   "execution_count": null,
   "metadata": {
    "collapsed": false,
    "deletable": true,
    "editable": true,
    "jupyter": {
     "outputs_hidden": false
    }
   },
   "outputs": [],
   "source": [
    "b[[1,3]]"
   ]
  },
  {
   "cell_type": "code",
   "execution_count": null,
   "metadata": {
    "collapsed": false,
    "deletable": true,
    "editable": true,
    "jupyter": {
     "outputs_hidden": false
    }
   },
   "outputs": [],
   "source": [
    "b[(1,3)]"
   ]
  },
  {
   "cell_type": "code",
   "execution_count": null,
   "metadata": {
    "collapsed": false,
    "deletable": true,
    "editable": true,
    "jupyter": {
     "outputs_hidden": false
    }
   },
   "outputs": [],
   "source": [
    "b[[1,2], [3,4]]"
   ]
  },
  {
   "cell_type": "code",
   "execution_count": null,
   "metadata": {
    "collapsed": false,
    "deletable": true,
    "editable": true,
    "jupyter": {
     "outputs_hidden": false
    }
   },
   "outputs": [],
   "source": [
    "b[[(1,2),(3,4)]]"
   ]
  },
  {
   "cell_type": "code",
   "execution_count": null,
   "metadata": {
    "collapsed": false,
    "deletable": true,
    "editable": true,
    "jupyter": {
     "outputs_hidden": false
    }
   },
   "outputs": [],
   "source": [
    "b[[True, False, False, True, False]]"
   ]
  },
  {
   "cell_type": "markdown",
   "metadata": {
    "deletable": true,
    "editable": true
   },
   "source": [
    "## Q4\n",
    "replace all even numbers in  `b` to `-1`"
   ]
  },
  {
   "cell_type": "code",
   "execution_count": null,
   "metadata": {
    "collapsed": false,
    "deletable": true,
    "editable": true,
    "jupyter": {
     "outputs_hidden": false
    }
   },
   "outputs": [],
   "source": [
    "# sample solution\n",
    "# %load q4.py"
   ]
  },
  {
   "cell_type": "markdown",
   "metadata": {
    "deletable": true,
    "editable": true
   },
   "source": [
    "# Practice with the image"
   ]
  },
  {
   "cell_type": "code",
   "execution_count": null,
   "metadata": {
    "collapsed": false,
    "deletable": true,
    "editable": true,
    "jupyter": {
     "outputs_hidden": false
    }
   },
   "outputs": [],
   "source": [
    "# Recall the image we used before\n",
    "from PIL import Image\n",
    "img = Image.open('img/Green-Rolling-Hills-Landscape-800px.png')\n",
    "img_array = np.array(img)\n",
    "Image.fromarray(img_array)"
   ]
  },
  {
   "cell_type": "code",
   "execution_count": null,
   "metadata": {
    "deletable": true,
    "editable": true
   },
   "outputs": [],
   "source": [
    "# this is an utility function to show an array as an image\n",
    "from IPython.display import display\n",
    "def show(img_array):\n",
    "    display(Image.fromarray(img_array))"
   ]
  },
  {
   "cell_type": "markdown",
   "metadata": {
    "deletable": true,
    "editable": true
   },
   "source": [
    "## Q \n",
    "Try to do the followings using numpy indexing or numpy function you know.\n",
    "\n",
    "* resize the image to the half of original height and width.\n",
    "* crop a piece of the image\n",
    "* make the image upside down.\n",
    "* mirror the image from left to right\n",
    "* remove all green in the image\n",
    "* resize the image to double the size\n",
    "* paste an imgae to another\n",
    "```python\n",
    "from urllib.request import urlopen\n",
    "url = \"https://raw.githubusercontent.com/playcanvas/engine/master/examples/images/animation.png\"\n",
    "simg = Image.open(urlopen(url))\n",
    "```\n",
    "* exchange green and red channel\n",
    "* convert the image to grayscale, using the following formula `Y=0.299R+0.587G+0.114B` "
   ]
  },
  {
   "cell_type": "code",
   "execution_count": null,
   "metadata": {
    "collapsed": false,
    "deletable": true,
    "editable": true,
    "jupyter": {
     "outputs_hidden": false
    }
   },
   "outputs": [],
   "source": [
    "# resize to half\n",
    "#%load q_half.py"
   ]
  },
  {
   "cell_type": "code",
   "execution_count": null,
   "metadata": {
    "collapsed": false,
    "deletable": true,
    "editable": true,
    "jupyter": {
     "outputs_hidden": false
    }
   },
   "outputs": [],
   "source": [
    "# resize to double\n",
    "# %load q_scale2.py"
   ]
  },
  {
   "cell_type": "code",
   "execution_count": null,
   "metadata": {
    "collapsed": false,
    "deletable": true,
    "editable": true,
    "jupyter": {
     "outputs_hidden": false
    }
   },
   "outputs": [],
   "source": [
    "# upside down\n",
    "show(img_array[::-1])"
   ]
  },
  {
   "cell_type": "code",
   "execution_count": null,
   "metadata": {
    "collapsed": false,
    "deletable": true,
    "editable": true,
    "jupyter": {
     "outputs_hidden": false
    }
   },
   "outputs": [],
   "source": [
    "# paste one image to another\n",
    "#%load q_paste.py"
   ]
  },
  {
   "cell_type": "code",
   "execution_count": null,
   "metadata": {
    "collapsed": false,
    "deletable": true,
    "editable": true,
    "jupyter": {
     "outputs_hidden": false
    }
   },
   "outputs": [],
   "source": [
    "# convert to grayscale\n",
    "#%load q_grayscale.py"
   ]
  },
  {
   "cell_type": "markdown",
   "metadata": {
    "deletable": true,
    "editable": true
   },
   "source": [
    "## Q \n",
    "* dig out a circle image that center at (300, 300) with radius 100"
   ]
  },
  {
   "cell_type": "code",
   "execution_count": null,
   "metadata": {
    "collapsed": false,
    "deletable": true,
    "editable": true,
    "jupyter": {
     "outputs_hidden": false
    }
   },
   "outputs": [],
   "source": [
    "# use loop\n",
    "#%load q_slow_circle.py"
   ]
  },
  {
   "cell_type": "code",
   "execution_count": null,
   "metadata": {
    "collapsed": false,
    "deletable": true,
    "editable": true,
    "jupyter": {
     "outputs_hidden": false
    }
   },
   "outputs": [],
   "source": [
    "# use fancy index \n",
    "#%load q_fast_circle.py"
   ]
  },
  {
   "cell_type": "markdown",
   "metadata": {
    "deletable": true,
    "editable": true
   },
   "source": [
    "### other applications of indexing "
   ]
  },
  {
   "cell_type": "code",
   "execution_count": null,
   "metadata": {
    "collapsed": false,
    "deletable": true,
    "editable": true,
    "jupyter": {
     "outputs_hidden": false
    }
   },
   "outputs": [],
   "source": [
    "# blur an image\n",
    "a = img_array.astype(float)\n",
    "for i in range(20):\n",
    "    a[1:,1:] = (a[1:,1:]+a[:-1,1:]+a[1:,:-1]+a[:-1,:-1])/4\n",
    "#a = ( (img-a)*2+127).clip(0, 255)\n",
    "show(a.astype('uint8'))"
   ]
  },
  {
   "cell_type": "code",
   "execution_count": null,
   "metadata": {
    "collapsed": false,
    "deletable": true,
    "editable": true,
    "jupyter": {
     "outputs_hidden": false
    }
   },
   "outputs": [],
   "source": [
    "# edge detection\n",
    "a = img_array.astype(float)\n",
    "a = a @ [0.299, 0.587, 0.114, 0]\n",
    "a = np.abs((a[1:]-a[:-1]))*2\n",
    "show(a.astype('uint8'))"
   ]
  },
  {
   "cell_type": "markdown",
   "metadata": {
    "deletable": true,
    "editable": true
   },
   "source": [
    "## Reshaping\n",
    "what does `.flatten` do? what is the shape of the array after `.flatten`\n",
    "\n",
    "\n",
    "\n",
    "check documents of \n",
    "`.reshape, .T, np.rot00, .swapaxes .rollaxis`\n",
    "and then check out how these function affect the shape of the array"
   ]
  },
  {
   "cell_type": "code",
   "execution_count": null,
   "metadata": {
    "collapsed": false,
    "deletable": true,
    "editable": true,
    "jupyter": {
     "outputs_hidden": false
    }
   },
   "outputs": [],
   "source": [
    "# application of reshaping \n",
    "R,G,B,A = img_array.reshape(-1,4).T\n",
    "plt.hist((R,G,B), color=['r', 'g', 'b']);"
   ]
  },
  {
   "cell_type": "markdown",
   "metadata": {
    "deletable": true,
    "editable": true
   },
   "source": [
    "## stack arrays together\n",
    "check documents of `np.vstack` `np.hstack` `np.concatenate` and try"
   ]
  },
  {
   "cell_type": "code",
   "execution_count": null,
   "metadata": {
    "collapsed": false,
    "deletable": true,
    "editable": true,
    "jupyter": {
     "outputs_hidden": false
    }
   },
   "outputs": [],
   "source": [
    "# an example\n",
    "show(np.hstack([img_array, img_array]))"
   ]
  },
  {
   "cell_type": "code",
   "execution_count": null,
   "metadata": {
    "collapsed": false,
    "deletable": true,
    "editable": true,
    "jupyter": {
     "outputs_hidden": false
    }
   },
   "outputs": [],
   "source": [
    "# another one\n",
    "show(np.concatenate([img_array, img_array[:, ::-1]], axis=1))"
   ]
  },
  {
   "cell_type": "markdown",
   "metadata": {
    "deletable": true,
    "editable": true
   },
   "source": [
    "## functions applied to wholl array/axis\n",
    "though there are many functions that are simple, elementwise, which are called ufunc, many useful and common functions are not ufuncs. The foolowings are a few examples"
   ]
  },
  {
   "cell_type": "code",
   "execution_count": null,
   "metadata": {
    "collapsed": false,
    "deletable": true,
    "editable": true,
    "jupyter": {
     "outputs_hidden": false
    }
   },
   "outputs": [],
   "source": [
    "np.max([1,2,3,4])"
   ]
  },
  {
   "cell_type": "code",
   "execution_count": null,
   "metadata": {
    "collapsed": false,
    "deletable": true,
    "editable": true,
    "jupyter": {
     "outputs_hidden": false
    }
   },
   "outputs": [],
   "source": [
    "np.sum([1,2,3,4])"
   ]
  },
  {
   "cell_type": "code",
   "execution_count": null,
   "metadata": {
    "collapsed": false,
    "deletable": true,
    "editable": true,
    "jupyter": {
     "outputs_hidden": false
    }
   },
   "outputs": [],
   "source": [
    "np.mean([1,2,3,4])"
   ]
  },
  {
   "cell_type": "code",
   "execution_count": null,
   "metadata": {
    "collapsed": false,
    "deletable": true,
    "editable": true,
    "jupyter": {
     "outputs_hidden": false
    }
   },
   "outputs": [],
   "source": [
    "np.min([1,2,3,4])"
   ]
  },
  {
   "cell_type": "markdown",
   "metadata": {
    "deletable": true,
    "editable": true
   },
   "source": [
    "多重意義的運用， 水平平均，整合垂直平均"
   ]
  },
  {
   "cell_type": "code",
   "execution_count": null,
   "metadata": {
    "collapsed": false,
    "deletable": true,
    "editable": true,
    "jupyter": {
     "outputs_hidden": false
    }
   },
   "outputs": [],
   "source": [
    "x_mean = img_array.astype(float).min(axis=0, keepdims=True)\n",
    "print(x_mean.dtype, x_mean.shape)\n",
    "y_mean = img_array.astype(float).min(axis=1, keepdims=True)\n",
    "print(y_mean.dtype, y_mean.shape)\n",
    "# 自動 broadcast \n",
    "xy_combined = (img_array-(x_mean+y_mean)/2)#.astype('uint8')\n",
    "show((img_array - xy_combined+127).clip(0,255).astype('uint8'))"
   ]
  },
  {
   "cell_type": "markdown",
   "metadata": {
    "deletable": true,
    "editable": true
   },
   "source": [
    "## Tensor product"
   ]
  },
  {
   "cell_type": "markdown",
   "metadata": {
    "deletable": true,
    "editable": true
   },
   "source": [
    "the simplist form is the dot product."
   ]
  },
  {
   "cell_type": "code",
   "execution_count": null,
   "metadata": {},
   "outputs": [],
   "source": [
    "# not too difficult to compute \n",
    "(np.array([1,2,3]) * [4,5,6]).sum()"
   ]
  },
  {
   "cell_type": "code",
   "execution_count": null,
   "metadata": {
    "collapsed": false,
    "deletable": true,
    "editable": true,
    "jupyter": {
     "outputs_hidden": false
    }
   },
   "outputs": [],
   "source": [
    "# but it is deserved it's own method\n",
    "# = 1*4 + 2*5 + 4*6\n",
    "np.dot([1,2,3], [4,5,6])"
   ]
  },
  {
   "cell_type": "code",
   "execution_count": null,
   "metadata": {
    "collapsed": false,
    "deletable": true,
    "editable": true,
    "jupyter": {
     "outputs_hidden": false
    }
   },
   "outputs": [],
   "source": [
    "# or it's own operator symbol\n",
    "u=np.array([1,2,3])\n",
    "v=np.array([4,5,6])\n",
    "print( u@v ) \n",
    "print( (u*v).sum() )"
   ]
  },
  {
   "cell_type": "code",
   "execution_count": null,
   "metadata": {},
   "outputs": [],
   "source": [
    "a = np.zeros((3,4,5))\n",
    "b = np.zeros((4,5,6))\n",
    "np.tensordot(a, b).shape"
   ]
  },
  {
   "cell_type": "code",
   "execution_count": null,
   "metadata": {},
   "outputs": [],
   "source": [
    "a = np.zeros((30,4,5))\n",
    "b = np.zeros((30,5,6))\n",
    "np.matmul(a, b).shape"
   ]
  },
  {
   "cell_type": "code",
   "execution_count": null,
   "metadata": {},
   "outputs": [],
   "source": [
    "a = np.zeros((5,30,4,5))\n",
    "b = np.zeros((30, 5,6))\n",
    "(a@b).shape"
   ]
  },
  {
   "cell_type": "code",
   "execution_count": null,
   "metadata": {},
   "outputs": [],
   "source": [
    "a = np.zeros((9,9,9,3,4,5))\n",
    "b = np.zeros((2,3,1,5,2))\n",
    "np.dot(a, b).shape"
   ]
  },
  {
   "cell_type": "markdown",
   "metadata": {},
   "source": [
    "$a$"
   ]
  },
  {
   "cell_type": "markdown",
   "metadata": {},
   "source": [
    "### matrix multiplication\n",
    "If you forget what matrix multiplication is, see\n",
    "http://matrixmultiplication.xyz/\n",
    "or http://eli.thegreenplace.net/2015/visualizing-matrix-multiplication-as-a-linear-combination/\n",
    "\n",
    "\n",
    "matrix multiplication can be viewed as \n",
    "* all combinations of dot production of the row vectors of first matrix and column vectors of the second matrix.\n",
    "* linear combination of column vectors\n",
    "* or substitution into a system of linear equation [A1-矩陣與基本列運算.ipynb](A1-矩陣與基本列運算.ipynb)\n",
    "* or understand in the language of numpy \n",
    "```python\n",
    "np.sum(a[:,:, np.newaxis] * b[np.newaxis, : , :], axis=1)\n",
    "dot(a, b)[i,k] = sum(a[i,:] * b[:, k])\n",
    "```\n",
    "\n",
    "### higher dimensional\n",
    "How does it generalized to higher dimensional array?\n",
    "* tensordot, tensor contraction, a.shape=(3,4,5), b.shape=(4,5,6), axis = 2 時等價於\n",
    "```python\n",
    "np.sum(a[..., np.newaxis] * b[np.newaxis, ...], axis=(1, 2))\n",
    "tensordot(a,b)[i,k]=sum(a[i, ...]* b[..., k])\n",
    "```\n",
    "https://en.wikipedia.org/wiki/Tensor_contraction\n",
    "\n",
    "* dot\n",
    "```python\n",
    "dot(a, b)[i,j,k,m] = sum(a[i,j,:] * b[k,:,m])\n",
    "np.tensordot(a,b, axes=(-1,-2))\n",
    "```\n",
    "* matmul: the last to index are treated as matrices\n",
    "```python\n",
    "a=np.random.random(size=(3,4,5))\n",
    "b=np.random.random(size=(3,5,7))\n",
    "(a @ b).shape\n",
    "np.sum(a[..., np.newaxis] * np.moveaxis(b[..., np.newaxis], -1,-3), axis=-2)\n",
    "```\n",
    "* einsum https://en.wikipedia.org/wiki/Einstein_notation\n",
    "```python\n",
    "np.einsum('ii', a) # trace(a)\n",
    "np.einsum('ii->i', a) #diag(a)\n",
    "np.einsum('ijk,nkl', a, b) # dot(a,b)\n",
    "np.einsum('ijk,jkl', a, b) # tensordot(a,b)\n",
    "np.einsum('ijk,ikl->ijl', a,b ) # matmul(a,b)\n",
    "```"
   ]
  },
  {
   "cell_type": "code",
   "execution_count": null,
   "metadata": {},
   "outputs": [],
   "source": [
    "a = np.random.randint(0, 10, size=(3,3))\n",
    "print(a)"
   ]
  },
  {
   "cell_type": "code",
   "execution_count": null,
   "metadata": {},
   "outputs": [],
   "source": [
    "np.diag(a)"
   ]
  },
  {
   "cell_type": "code",
   "execution_count": null,
   "metadata": {
    "collapsed": false,
    "deletable": true,
    "editable": true,
    "jupyter": {
     "outputs_hidden": false
    }
   },
   "outputs": [],
   "source": [
    "A=np.random.randint(0,10, size=(5,3))\n",
    "A"
   ]
  },
  {
   "cell_type": "code",
   "execution_count": null,
   "metadata": {
    "collapsed": false,
    "deletable": true,
    "editable": true,
    "jupyter": {
     "outputs_hidden": false
    }
   },
   "outputs": [],
   "source": [
    "B=np.random.randint(0,10, size=(3,7))\n",
    "B"
   ]
  },
  {
   "cell_type": "code",
   "execution_count": null,
   "metadata": {
    "collapsed": false,
    "deletable": true,
    "editable": true,
    "jupyter": {
     "outputs_hidden": false
    }
   },
   "outputs": [],
   "source": [
    "A.dot(B)"
   ]
  },
  {
   "cell_type": "markdown",
   "metadata": {
    "deletable": true,
    "editable": true
   },
   "source": [
    "## Q\n",
    "* calculate the dot of A,B by hand\n",
    "* try other multiplications and products"
   ]
  },
  {
   "cell_type": "markdown",
   "metadata": {
    "deletable": true,
    "editable": true
   },
   "source": [
    "### Summary"
   ]
  },
  {
   "cell_type": "markdown",
   "metadata": {
    "deletable": true,
    "editable": true
   },
   "source": [
    "numpy is a libary build around ndarray\n",
    "* the most simple form of operations are elementwise operations\n",
    "* indexing is very handy and powerful.\n",
    "* reshaping can let us using diffrent ways to view a matrix\n",
    "* tensor product is a generalization of matrix multiplication and dot product"
   ]
  },
  {
   "cell_type": "code",
   "execution_count": null,
   "metadata": {},
   "outputs": [],
   "source": []
  }
 ],
 "metadata": {
  "kernelspec": {
   "display_name": "Python 3 (ipykernel)",
   "language": "python",
   "name": "python3"
  },
  "language_info": {
   "codemirror_mode": {
    "name": "ipython",
    "version": 3
   },
   "file_extension": ".py",
   "mimetype": "text/x-python",
   "name": "python",
   "nbconvert_exporter": "python",
   "pygments_lexer": "ipython3",
   "version": "3.11.8"
  }
 },
 "nbformat": 4,
 "nbformat_minor": 4
}
